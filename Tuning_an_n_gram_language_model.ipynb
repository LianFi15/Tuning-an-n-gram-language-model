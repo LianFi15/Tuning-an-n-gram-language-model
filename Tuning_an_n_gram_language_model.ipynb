{
  "cells": [
    {
      "cell_type": "markdown",
      "metadata": {
        "id": "UJl-6DkXR3hE"
      },
      "source": [
        "\n",
        "# Tuning an $n$-gram model"
      ]
    },
    {
      "cell_type": "markdown",
      "metadata": {
        "id": "ZCFMiCa0jlS4"
      },
      "source": [
        "The following is scaffolding code that you can expand to complete the problem.  First, we set up the training, validation, and test datasets (for real-size modeling problems you would read these from files):"
      ]
    },
    {
      "cell_type": "code",
      "execution_count": null,
      "metadata": {
        "id": "Wm9H0xz8pbE4"
      },
      "outputs": [],
      "source": [
        "training_set = [['dogs', 'chase', 'cats'],\n",
        "['dogs', 'bark'],\n",
        "['cats', 'meow'],\n",
        "['dogs', 'chase', 'birds'],\n",
        "['birds', 'chase', 'cats'],\n",
        "['dogs', 'chase', 'the', 'cats'],\n",
        "['the', 'birds', 'chirp']]\n",
        "\n",
        "validation_set = [['the','cats','meow'],\n",
        "                  ['the','dogs','bark'],\n",
        "                  ['the','dogs','chase','the','cats']]\n",
        "\n",
        "test_set = [['cats','meow'],['dogs','chase','the','birds']]"
      ]
    },
    {
      "cell_type": "markdown",
      "metadata": {
        "id": "r-PP0OUVj6U5"
      },
      "source": [
        "A natural way to implement a model is often to define a class that you can give model hyper-parameters, and define methods for training the model, computing the most basic building-block quantity relevant for the model, and assessing overall performance of a trained model on a dataset.  Below is scaffolding code for doing this.  For a bigram model, the most elementary quantity is $p(w_i|w_{i-1})$ so that is what the `prob()` method gives.\n",
        "\n",
        "You don't need to use this scaffolding code in your solution to the problem, but you may find it useful."
      ]
    },
    {
      "cell_type": "markdown",
      "metadata": {
        "id": "NWDzOreYlcJ1"
      },
      "source": [
        "For step 1 of this problem, you need to find the value of $\\alpha$ that optimizes validation-set perplexity; this is a simple example of what in machine learning these days \"hyperparameter tuning\" or \"[hyperparameter optimization](https://en.wikipedia.org/wiki/Hyperparameter_optimization)\"."
      ]
    },
    {
      "cell_type": "code",
      "execution_count": null,
      "metadata": {
        "id": "d7nSt_c_PAL2"
      },
      "outputs": [],
      "source": [
        "#count unique words without the char indicating the beginning of the sentence.\n",
        "def count_unique_words(data):\n",
        "    unique_words = set()\n",
        "    for sentence in data:\n",
        "        for word in sentence:\n",
        "            unique_words.add(word)\n",
        "\n",
        "    unique_words.discard('s')\n",
        "    return len(unique_words)"
      ]
    },
    {
      "cell_type": "code",
      "execution_count": null,
      "metadata": {
        "id": "snJ5OHqwPEez"
      },
      "outputs": [],
      "source": [
        "#count the number of tokens (non unique) without the char indicating\n",
        "#the beginning of the sentence.\n",
        "def count_tokens(data):\n",
        "  count = 0\n",
        "  for sentence in data:\n",
        "      for value in sentence:\n",
        "          if (value!= 's'):\n",
        "            count += 1\n",
        "\n",
        "  return count"
      ]
    },
    {
      "cell_type": "code",
      "execution_count": null,
      "metadata": {
        "id": "jfBL4J4Md92d"
      },
      "outputs": [],
      "source": [
        "import math\n",
        "from collections import Counter\n",
        "\n",
        "class bigram_model:\n",
        "\n",
        "  def train(self,training_set):\n",
        "    new_value_start = 's'\n",
        "    new_value_end = '/s'\n",
        "    new_data = [[new_value_start] + row + [new_value_end] for row in training_set]\n",
        "    return new_data\n",
        "\n",
        "  #calculate n-gram probabilities\n",
        "  def prob(self,data, bonus):\n",
        "    word_counts = {}\n",
        "    pair_counts = {}\n",
        "\n",
        "    for sentence in data:\n",
        "       for i in range(len(sentence)-1):\n",
        "            prev_word = sentence[i]\n",
        "            curr_word = sentence[i+1]\n",
        "            if prev_word in word_counts:\n",
        "                word_counts[prev_word] += 1\n",
        "            else:\n",
        "                word_counts[prev_word] = 1\n",
        "            pair = (curr_word, prev_word)\n",
        "            if pair in pair_counts:\n",
        "                pair_counts[pair] += 1\n",
        "            else:\n",
        "                pair_counts[pair] = 1\n",
        "\n",
        "    if not bonus:\n",
        "      for word1 in word_counts.keys():\n",
        "        if word1!= 's':\n",
        "          for word2 in word_counts.keys():\n",
        "              if (word1, word2) not in pair_counts:\n",
        "                  pair_counts[(word1, word2)] = 0\n",
        "\n",
        "\n",
        "    return  pair_counts, word_counts\n",
        "\n",
        "\n",
        "#calculate the perplexity of a model\n",
        "  def perplexity(self,data, pair_counts, word_counts, alpha, V):\n",
        "\n",
        "    bigram_probabilities = {}\n",
        "    for pair in pair_counts:\n",
        "        prev_word = pair[1]\n",
        "        bigram_probabilities[pair] = (pair_counts[pair]+alpha) / (word_counts[prev_word]+(alpha*V))\n",
        "\n",
        "#find the words of the given data that appear on the trainset\n",
        "    pairs= set()\n",
        "    for sentence in data:\n",
        "        for i in range(len(sentence)-1):\n",
        "            prev_word = sentence[i]\n",
        "            curr_word = sentence[i+1]\n",
        "            pair = (curr_word, prev_word)\n",
        "            pairs.add(pair)\n",
        "\n",
        "    data_dict = {}\n",
        "    for key in bigram_probabilities.keys():\n",
        "        if key in pairs:\n",
        "          data_dict[key] = bigram_probabilities[key]\n",
        "\n",
        "#perplexity calculation\n",
        "    N= count_unique_words(data)\n",
        "    log_sum = 0\n",
        "    for value in data_dict.values():\n",
        "      log_sum = log_sum - math.log(value, 2)\n",
        "\n",
        "    mean_surprisal = (1/N)*(log_sum)\n",
        "    return math.pow(2, mean_surprisal)"
      ]
    },
    {
      "cell_type": "code",
      "execution_count": null,
      "metadata": {
        "id": "c_N3Cr38NDNJ"
      },
      "outputs": [],
      "source": [
        "#create a bigram model\n",
        "model = bigram_model()\n",
        "trained_data = model.train(training_set)\n",
        "\n",
        "V= count_unique_words(trained_data)\n",
        "pair_counts, word_counts = model.prob(trained_data,0)"
      ]
    },
    {
      "cell_type": "markdown",
      "metadata": {
        "id": "7Cf1-eIGkjBL"
      },
      "source": [
        "For step 2, write a function which returns the perplexities of the validation and test sets for a given alpha. Next, graph in a lineplot the validation and test set perplexities for a range of alphas that reveals the full relationship between validation and test set perplexities."
      ]
    },
    {
      "cell_type": "code",
      "execution_count": null,
      "metadata": {
        "id": "AigOq-vqf90k"
      },
      "outputs": [],
      "source": [
        "import numpy as np\n",
        "\n",
        "def perplexities_from_alpha(alpha, validation_set, test_set, model, pair_counts, word_counts):\n",
        "  validation_perplexity= model.perplexity(validation_set, pair_counts, word_counts, alpha, V)\n",
        "  test_perplexity=  model.perplexity(test_set, pair_counts,word_counts,alpha,V)\n",
        "\n",
        "  return( (validation_perplexity,test_perplexity) )\n",
        "\n",
        "def calculate_perplexity(validation_set, test_set, model, pair_counts, word_counts):\n",
        "  #alphas = np.arange(0.00001,1, 0.001)\n",
        "  alphas = np.arange(0.0001,1, 0.01)\n",
        "\n",
        "  alpha_prep_validation=[]\n",
        "  alpha_prep_test=[]\n",
        "  for alpha in alphas:\n",
        "    validation_perplexity, testset_perplexity= perplexities_from_alpha(alpha, validation_set, test_set, model, pair_counts, word_counts)\n",
        "    alpha_prep_validation.append(validation_perplexity)\n",
        "    alpha_prep_test.append(testset_perplexity)\n",
        "\n",
        "\n",
        "  df = pd.DataFrame({\n",
        "      'alpha': alphas,\n",
        "      'validation': alpha_prep_validation,\n",
        "      'test': alpha_prep_test\n",
        "  })\n",
        "\n",
        "  return df"
      ]
    },
    {
      "cell_type": "code",
      "execution_count": null,
      "metadata": {
        "colab": {
          "base_uri": "https://localhost:8080/",
          "height": 458
        },
        "id": "d9sCpp0jVkqQ",
        "outputId": "65afac3c-2088-431c-c91a-b67d71755ff7"
      },
      "outputs": [
        {
          "output_type": "display_data",
          "data": {
            "text/plain": [
              "<Figure size 640x480 with 1 Axes>"
            ],
            "image/png": "[encoded data removed]"
          },
          "metadata": {}
        }
      ],
      "source": [
        "df = calculate_perplexity(validation_set, test_set, model, pair_counts, word_counts)\n",
        "ax = df.plot(x='alpha', y='validation', label='validation', color = 'darkorchid')\n",
        "df.plot(x='alpha', y='test', label='test', ax=ax, color = 'lightcoral')\n",
        "plt.xlabel('alpha')\n",
        "plt.ylabel('perplexity')\n",
        "plt.show()"
      ]
    },
    {
      "cell_type": "markdown",
      "metadata": {
        "id": "CbzJqvtwMvjQ"
      },
      "source": [
        "### Interpret the results\n",
        "\n",
        "*   What value of α worked the best for the validation set?\n",
        "*   Was it the same that would have worked best for the test set?\n",
        "\n",
        "**TODO**: Your answer"
      ]
    },
    {
      "cell_type": "code",
      "execution_count": null,
      "metadata": {
        "id": "hjzPzd1hBCDM"
      },
      "outputs": [],
      "source": [
        "def results (df):\n",
        "  #validation set\n",
        "  min=df['validation'].min()\n",
        "  alpha = df.loc[df['validation']== min, 'alpha'].iloc[0]\n",
        "\n",
        "  #test set\n",
        "  min_test=df['test'].min()\n",
        "  alpha_test = df.loc[df['test']== min_test, 'alpha'].iloc[0]\n",
        "\n",
        "  print(f'α that minimize the held out perplexity of the validation set is :{alpha}')\n",
        "  print(f'The validation set perplexity is : {round(min,4)}')\n",
        "  print('\\n')\n",
        "  print(f'α that minimize the held out perplexity of the test set is :{alpha_test}')\n",
        "  print(f'The test set perplexity is : {round(min_test,4)}')"
      ]
    },
    {
      "cell_type": "code",
      "source": [
        "results(df)"
      ],
      "metadata": {
        "colab": {
          "base_uri": "https://localhost:8080/"
        },
        "id": "IrTqdgCnd7Jc",
        "outputId": "33215e3d-d784-493f-c34b-c640aa67cca7"
      },
      "execution_count": null,
      "outputs": [
        {
          "output_type": "stream",
          "name": "stdout",
          "text": [
            "α that minimize the held out perplexity of the validation set is :0.1101\n",
            "The validation set perplexity is : 4.6923\n",
            "\n",
            "\n",
            "α that minimize the held out perplexity of the test set is :0.0001\n",
            "The test set perplexity is : 1.8696\n"
          ]
        }
      ]
    },
    {
      "cell_type": "markdown",
      "metadata": {
        "id": "oWfB081OMZDF"
      },
      "source": [
        "The α value that minimizes the validation set is different than the one for the test set.\n",
        "\n",
        "The alpha value that minimizes the heldout perplexity of the validation set is larger, indicating that choosing this value for the test set would lead to poor results. We belive there are few possible reasons for this:\n",
        "\n",
        "1. When we use the validation set to tune a hyperparameter such as alpha, there is a risk of overfitting to the validation set.\n",
        "2. The validation and test sets have a data mismatch in terms of the number of tokens and sentence length, despite having the same number of unique words (6) in both sets. Specifically, the validation set has 11 tokens and sentences of different lengths, while the test set has only 6 tokens."
      ]
    },
    {
      "cell_type": "markdown",
      "metadata": {
        "id": "rrnw8f3nRarM"
      },
      "source": [
        "#Bonus"
      ]
    },
    {
      "cell_type": "code",
      "execution_count": null,
      "metadata": {
        "id": "8JfE8ktuRenE"
      },
      "outputs": [],
      "source": [
        "#open each dataset\n",
        "with open('wiki.train.tokens', 'r') as f:\n",
        "    train_data = f.read().split('\\n')\n",
        "\n",
        "with open('wiki.valid.tokens', 'r') as f:\n",
        "    valid_data = f.read().split('\\n')\n",
        "\n",
        "with open('wiki.test.tokens', 'r') as f:\n",
        "    test_data = f.read().split('\\n')"
      ]
    },
    {
      "cell_type": "code",
      "source": [
        "#insert each line to a sublist, so we get similar type of data as we were\n",
        "#given before.\n",
        "train_data = [line for line in train_data if line.strip()]\n",
        "valid_data = [line for line in valid_data if line.strip()]\n",
        "test_data = [line for line in test_data if line.strip()]\n",
        "\n",
        "train_data = [line.split() for line in train_data]\n",
        "valid_data = [line.split() for line in valid_data]\n",
        "test_data = [line.split() for line in test_data]"
      ],
      "metadata": {
        "id": "3Hv6SGV4TUoA"
      },
      "execution_count": null,
      "outputs": []
    },
    {
      "cell_type": "code",
      "source": [
        "wiki_model = bigram_model()\n",
        "trained_wiki = wiki_model.train(train_data)\n",
        "\n",
        "V_wiki= count_unique_words(trained_wiki)\n",
        "pair_counts_wiki, word_counts_wiki = wiki_model.prob(trained_wiki, 1)"
      ],
      "metadata": {
        "id": "YonXIH0SYWRY"
      },
      "execution_count": null,
      "outputs": []
    },
    {
      "cell_type": "code",
      "source": [
        "df_wiki = calculate_perplexity(valid_data, test_data, wiki_model, pair_counts_wiki, word_counts_wiki)"
      ],
      "metadata": {
        "id": "-e2cNQbUeeWn"
      },
      "execution_count": null,
      "outputs": []
    },
    {
      "cell_type": "code",
      "source": [
        "ax = df_wiki.plot(x='alpha', y='validation', label='validation', color = 'darkorchid')\n",
        "df_wiki.plot(x='alpha', y='test', label='test', ax=ax, color = 'lightcoral')\n",
        "plt.xlabel('alpha')\n",
        "plt.ylabel('perplexity')\n",
        "plt.show()"
      ],
      "metadata": {
        "colab": {
          "base_uri": "https://localhost:8080/",
          "height": 474
        },
        "id": "tKTWHHTIhdXq",
        "outputId": "01b59823-5738-4a4e-faf3-993f15ba2c8b"
      },
      "execution_count": null,
      "outputs": [
        {
          "output_type": "display_data",
          "data": {
            "text/plain": [
              "<Figure size 640x480 with 1 Axes>"
            ],
            "image/png": "[encoded data removed]"
          },
          "metadata": {}
        }
      ]
    },
    {
      "cell_type": "code",
      "source": [
        "results(df_wiki)"
      ],
      "metadata": {
        "colab": {
          "base_uri": "https://localhost:8080/"
        },
        "id": "mpKgIAwviLwS",
        "outputId": "da7648c1-458e-4cbc-bfac-1c85f33149cd"
      },
      "execution_count": null,
      "outputs": [
        {
          "output_type": "stream",
          "name": "stdout",
          "text": [
            "α that minimize the held out perplexity of the validation set is :0.9901\n",
            "The validation set perplexity is : 1703076097.801\n",
            "\n",
            "\n",
            "α that minimize the held out perplexity of the test set is :0.9901\n",
            "The test set perplexity is : 3968108381.4039\n"
          ]
        }
      ]
    },
    {
      "cell_type": "markdown",
      "source": [
        "We can see that we got different results for this dataset. Since there are a lot more words -> the α that minimize the held out perplexity of the test and train set is the same."
      ],
      "metadata": {
        "id": "zd54_8uiiRTc"
      }
    },
    {
      "cell_type": "markdown",
      "metadata": {
        "id": "1oYjexwQZr79"
      },
      "source": [
        "# Export to PDF\n",
        "\n",
        "Run the following cell to download the notebook as a nicely formatted pdf file."
      ]
    },
    {
      "cell_type": "code",
      "execution_count": null,
      "metadata": {
        "id": "1onivwZYZuqg",
        "colab": {
          "base_uri": "https://localhost:8080/",
          "height": 1000
        },
        "outputId": "07774bbc-6fe5-4244-8b33-af8aff459911"
      },
      "outputs": [
        {
          "output_type": "stream",
          "name": "stdout",
          "text": [
            "--2023-04-26 18:39:35--  https://raw.githubusercontent.com/scaperex/colab-pdf/master/colab_pdf.py\n",
            "Resolving raw.githubusercontent.com (raw.githubusercontent.com)... 185.199.110.133, 185.199.111.133, 185.199.108.133, ...\n",
            "Connecting to raw.githubusercontent.com (raw.githubusercontent.com)|185.199.110.133|:443... connected.\n",
            "HTTP request sent, awaiting response... 200 OK\n",
            "Length: 1902 (1.9K) [text/plain]\n",
            "Saving to: ‘colab_pdf.py’\n",
            "\n",
            "\rcolab_pdf.py          0%[                    ]       0  --.-KB/s               \rcolab_pdf.py        100%[===================>]   1.86K  --.-KB/s    in 0s      \n",
            "\n",
            "2023-04-26 18:39:35 (35.4 MB/s) - ‘colab_pdf.py’ saved [1902/1902]\n",
            "\n",
            "\n",
            "WARNING: apt does not have a stable CLI interface. Use with caution in scripts.\n",
            "\n",
            "\n",
            "WARNING: apt does not have a stable CLI interface. Use with caution in scripts.\n",
            "\n",
            "Extracting templates from packages: 100%\n",
            "[NbConvertApp] WARNING | pattern 'drive/MyDrive/Colab Notebooks/hw2_question3.ipynb' matched no files\n",
            "This application is used to convert notebook files (*.ipynb)\n",
            "        to various other formats.\n",
            "\n",
            "        WARNING: THE COMMANDLINE INTERFACE MAY CHANGE IN FUTURE RELEASES.\n",
            "\n",
            "Options\n",
            "=======\n",
            "The options below are convenience aliases to configurable class-options,\n",
            "as listed in the \"Equivalent to\" description-line of the aliases.\n",
            "To see all configurable class-options for some <cmd>, use:\n",
            "    <cmd> --help-all\n",
            "\n",
            "--debug\n",
            "    set log level to logging.DEBUG (maximize logging output)\n",
            "    Equivalent to: [--Application.log_level=10]\n",
            "--show-config\n",
            "    Show the application's configuration (human-readable format)\n",
            "    Equivalent to: [--Application.show_config=True]\n",
            "--show-config-json\n",
            "    Show the application's configuration (json format)\n",
            "    Equivalent to: [--Application.show_config_json=True]\n",
            "--generate-config\n",
            "    generate default config file\n",
            "    Equivalent to: [--JupyterApp.generate_config=True]\n",
            "-y\n",
            "    Answer yes to any questions instead of prompting.\n",
            "    Equivalent to: [--JupyterApp.answer_yes=True]\n",
            "--execute\n",
            "    Execute the notebook prior to export.\n",
            "    Equivalent to: [--ExecutePreprocessor.enabled=True]\n",
            "--allow-errors\n",
            "    Continue notebook execution even if one of the cells throws an error and include the error message in the cell output (the default behaviour is to abort conversion). This flag is only relevant if '--execute' was specified, too.\n",
            "    Equivalent to: [--ExecutePreprocessor.allow_errors=True]\n",
            "--stdin\n",
            "    read a single notebook file from stdin. Write the resulting notebook with default basename 'notebook.*'\n",
            "    Equivalent to: [--NbConvertApp.from_stdin=True]\n",
            "--stdout\n",
            "    Write notebook output to stdout instead of files.\n",
            "    Equivalent to: [--NbConvertApp.writer_class=StdoutWriter]\n",
            "--inplace\n",
            "    Run nbconvert in place, overwriting the existing notebook (only\n",
            "            relevant when converting to notebook format)\n",
            "    Equivalent to: [--NbConvertApp.use_output_suffix=False --NbConvertApp.export_format=notebook --FilesWriter.build_directory=]\n",
            "--clear-output\n",
            "    Clear output of current file and save in place,\n",
            "            overwriting the existing notebook.\n",
            "    Equivalent to: [--NbConvertApp.use_output_suffix=False --NbConvertApp.export_format=notebook --FilesWriter.build_directory= --ClearOutputPreprocessor.enabled=True]\n",
            "--no-prompt\n",
            "    Exclude input and output prompts from converted document.\n",
            "    Equivalent to: [--TemplateExporter.exclude_input_prompt=True --TemplateExporter.exclude_output_prompt=True]\n",
            "--no-input\n",
            "    Exclude input cells and output prompts from converted document.\n",
            "            This mode is ideal for generating code-free reports.\n",
            "    Equivalent to: [--TemplateExporter.exclude_output_prompt=True --TemplateExporter.exclude_input=True --TemplateExporter.exclude_input_prompt=True]\n",
            "--allow-chromium-download\n",
            "    Whether to allow downloading chromium if no suitable version is found on the system.\n",
            "    Equivalent to: [--WebPDFExporter.allow_chromium_download=True]\n",
            "--disable-chromium-sandbox\n",
            "    Disable chromium security sandbox when converting to PDF..\n",
            "    Equivalent to: [--WebPDFExporter.disable_sandbox=True]\n",
            "--show-input\n",
            "    Shows code input. This flag is only useful for dejavu users.\n",
            "    Equivalent to: [--TemplateExporter.exclude_input=False]\n",
            "--embed-images\n",
            "    Embed the images as base64 dataurls in the output. This flag is only useful for the HTML/WebPDF/Slides exports.\n",
            "    Equivalent to: [--HTMLExporter.embed_images=True]\n",
            "--sanitize-html\n",
            "    Whether the HTML in Markdown cells and cell outputs should be sanitized..\n",
            "    Equivalent to: [--HTMLExporter.sanitize_html=True]\n",
            "--log-level=<Enum>\n",
            "    Set the log level by value or name.\n",
            "    Choices: any of [0, 10, 20, 30, 40, 50, 'DEBUG', 'INFO', 'WARN', 'ERROR', 'CRITICAL']\n",
            "    Default: 30\n",
            "    Equivalent to: [--Application.log_level]\n",
            "--config=<Unicode>\n",
            "    Full path of a config file.\n",
            "    Default: ''\n",
            "    Equivalent to: [--JupyterApp.config_file]\n",
            "--to=<Unicode>\n",
            "    The export format to be used, either one of the built-in formats\n",
            "            ['asciidoc', 'custom', 'html', 'latex', 'markdown', 'notebook', 'pdf', 'python', 'rst', 'script', 'slides', 'webpdf']\n",
            "            or a dotted object name that represents the import path for an\n",
            "            ``Exporter`` class\n",
            "    Default: ''\n",
            "    Equivalent to: [--NbConvertApp.export_format]\n",
            "--template=<Unicode>\n",
            "    Name of the template to use\n",
            "    Default: ''\n",
            "    Equivalent to: [--TemplateExporter.template_name]\n",
            "--template-file=<Unicode>\n",
            "    Name of the template file to use\n",
            "    Default: None\n",
            "    Equivalent to: [--TemplateExporter.template_file]\n",
            "--theme=<Unicode>\n",
            "    Template specific theme(e.g. the name of a JupyterLab CSS theme distributed\n",
            "    as prebuilt extension for the lab template)\n",
            "    Default: 'light'\n",
            "    Equivalent to: [--HTMLExporter.theme]\n",
            "--sanitize_html=<Bool>\n",
            "    Whether the HTML in Markdown cells and cell outputs should be sanitized.This\n",
            "    should be set to True by nbviewer or similar tools.\n",
            "    Default: False\n",
            "    Equivalent to: [--HTMLExporter.sanitize_html]\n",
            "--writer=<DottedObjectName>\n",
            "    Writer class used to write the\n",
            "                                        results of the conversion\n",
            "    Default: 'FilesWriter'\n",
            "    Equivalent to: [--NbConvertApp.writer_class]\n",
            "--post=<DottedOrNone>\n",
            "    PostProcessor class used to write the\n",
            "                                        results of the conversion\n",
            "    Default: ''\n",
            "    Equivalent to: [--NbConvertApp.postprocessor_class]\n",
            "--output=<Unicode>\n",
            "    overwrite base name use for output files.\n",
            "                can only be used when converting one notebook at a time.\n",
            "    Default: ''\n",
            "    Equivalent to: [--NbConvertApp.output_base]\n",
            "--output-dir=<Unicode>\n",
            "    Directory to write output(s) to. Defaults\n",
            "                                  to output to the directory of each notebook. To recover\n",
            "                                  previous default behaviour (outputting to the current\n",
            "                                  working directory) use . as the flag value.\n",
            "    Default: ''\n",
            "    Equivalent to: [--FilesWriter.build_directory]\n",
            "--reveal-prefix=<Unicode>\n",
            "    The URL prefix for reveal.js (version 3.x).\n",
            "            This defaults to the reveal CDN, but can be any url pointing to a copy\n",
            "            of reveal.js.\n",
            "            For speaker notes to work, this must be a relative path to a local\n",
            "            copy of reveal.js: e.g., \"reveal.js\".\n",
            "            If a relative path is given, it must be a subdirectory of the\n",
            "            current directory (from which the server is run).\n",
            "            See the usage documentation\n",
            "            (https://nbconvert.readthedocs.io/en/latest/usage.html#reveal-js-html-slideshow)\n",
            "            for more details.\n",
            "    Default: ''\n",
            "    Equivalent to: [--SlidesExporter.reveal_url_prefix]\n",
            "--nbformat=<Enum>\n",
            "    The nbformat version to write.\n",
            "            Use this to downgrade notebooks.\n",
            "    Choices: any of [1, 2, 3, 4]\n",
            "    Default: 4\n",
            "    Equivalent to: [--NotebookExporter.nbformat_version]\n",
            "\n",
            "Examples\n",
            "--------\n",
            "\n",
            "    The simplest way to use nbconvert is\n",
            "\n",
            "            > jupyter nbconvert mynotebook.ipynb --to html\n",
            "\n",
            "            Options include ['asciidoc', 'custom', 'html', 'latex', 'markdown', 'notebook', 'pdf', 'python', 'rst', 'script', 'slides', 'webpdf'].\n",
            "\n",
            "            > jupyter nbconvert --to latex mynotebook.ipynb\n",
            "\n",
            "            Both HTML and LaTeX support multiple output templates. LaTeX includes\n",
            "            'base', 'article' and 'report'.  HTML includes 'basic', 'lab' and\n",
            "            'classic'. You can specify the flavor of the format used.\n",
            "\n",
            "            > jupyter nbconvert --to html --template lab mynotebook.ipynb\n",
            "\n",
            "            You can also pipe the output to stdout, rather than a file\n",
            "\n",
            "            > jupyter nbconvert mynotebook.ipynb --stdout\n",
            "\n",
            "            PDF is generated via latex\n",
            "\n",
            "            > jupyter nbconvert mynotebook.ipynb --to pdf\n",
            "\n",
            "            You can get (and serve) a Reveal.js-powered slideshow\n",
            "\n",
            "            > jupyter nbconvert myslides.ipynb --to slides --post serve\n",
            "\n",
            "            Multiple notebooks can be given at the command line in a couple of\n",
            "            different ways:\n",
            "\n",
            "            > jupyter nbconvert notebook*.ipynb\n",
            "            > jupyter nbconvert notebook1.ipynb notebook2.ipynb\n",
            "\n",
            "            or you can specify the notebooks list in a config file, containing::\n",
            "\n",
            "                c.NbConvertApp.notebooks = [\"my_notebook.ipynb\"]\n",
            "\n",
            "            > jupyter nbconvert --config mycfg.py\n",
            "\n",
            "To see all available configurables, use `--help-all`.\n",
            "\n"
          ]
        },
        {
          "output_type": "execute_result",
          "data": {
            "text/plain": [
              "'File Download Unsuccessful. Saved in Google Drive'"
            ],
            "application/vnd.google.colaboratory.intrinsic+json": {
              "type": "string"
            }
          },
          "metadata": {},
          "execution_count": 2
        }
      ],
      "source": [
        "# Add to a new cell at the end of the notebook and run the follow code,\n",
        "# which will save the notebook as pdf in your google drive (allow the permissions) and download it automatically.\n",
        "\n",
        "!wget -nc https://raw.githubusercontent.com/scaperex/colab-pdf/master/colab_pdf.py\n",
        "\n",
        "from colab_pdf import colab_pdf\n",
        "\n",
        "# If you saved the notebook in the default location in your Google Drive,\n",
        "#  and didn't change the name of the file, the code should work as is. If not, adapt accordingly.\n",
        "# E.g. in your case the file name may be \"Copy of XXXX.ipynb\"\n",
        "\n",
        "colab_pdf(file_name='hw2_question3.ipynb', notebookpath=\"drive/MyDrive/Colab Notebooks\")"
      ]
    },
    {
      "cell_type": "code",
      "source": [
        "from google.colab import drive\n",
        "drive.mount('/content/drive')"
      ],
      "metadata": {
        "id": "yR2Qokfr4iLk",
        "colab": {
          "base_uri": "https://localhost:8080/"
        },
        "outputId": "8e4e25be-be79-41c6-e835-7921da22cdfe"
      },
      "execution_count": null,
      "outputs": [
        {
          "output_type": "stream",
          "name": "stdout",
          "text": [
            "Mounted at /content/drive\n"
          ]
        }
      ]
    },
    {
      "cell_type": "code",
      "source": [
        "%%shell\n",
        "jupyter nbconvert --to html /content/hw2_question3.ipynb"
      ],
      "metadata": {
        "colab": {
          "base_uri": "https://localhost:8080/"
        },
        "id": "D-3uk_Hx4DTA",
        "outputId": "298b7004-9a66-4a10-e97f-0270c67f06ed"
      },
      "execution_count": null,
      "outputs": [
        {
          "output_type": "stream",
          "name": "stdout",
          "text": [
            "[NbConvertApp] Converting notebook /content/hw2_question3.ipynb to html\n",
            "[NbConvertApp] Writing 823773 bytes to /content/hw2_question3.html\n"
          ]
        },
        {
          "output_type": "execute_result",
          "data": {
            "text/plain": []
          },
          "metadata": {},
          "execution_count": 4
        }
      ]
    }
  ],
  "metadata": {
    "colab": {
      "collapsed_sections": [
        "WFWm5d9Yol-8"
      ],
      "provenance": []
    },
    "kernelspec": {
      "display_name": "Python 3",
      "name": "python3"
    },
    "accelerator": "GPU",
    "gpuClass": "standard"
  },
  "nbformat": 4,
  "nbformat_minor": 0
}